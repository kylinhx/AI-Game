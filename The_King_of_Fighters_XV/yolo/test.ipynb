{
 "cells": [
  {
   "cell_type": "code",
   "execution_count": 10,
   "metadata": {},
   "outputs": [],
   "source": [
    "from ultralytics import YOLO\n",
    "\n",
    "MYMODEL_PATH = 'D:\\\\Work_space\\\\Projects\\\\AI-Game\\\\The_King_of_Fighters_XV\\\\model\\\\best.pt'"
   ]
  },
  {
   "cell_type": "code",
   "execution_count": 11,
   "metadata": {},
   "outputs": [],
   "source": [
    "model = YOLO(MYMODEL_PATH)"
   ]
  },
  {
   "cell_type": "code",
   "execution_count": 12,
   "metadata": {},
   "outputs": [
    {
     "name": "stdout",
     "output_type": "stream",
     "text": [
      "<class 'NoneType'>\n"
     ]
    }
   ],
   "source": [
    "import cv2\n",
    "data = cv2.imread(MYMODEL_PATH)\n",
    "print(type(data))"
   ]
  },
  {
   "cell_type": "code",
   "execution_count": 13,
   "metadata": {},
   "outputs": [
    {
     "name": "stderr",
     "output_type": "stream",
     "text": [
      "\n",
      "image 1/1 d:\\Work_space\\Projects\\AI-Game\\The_King_of_Fighters_XV\\yolo\\example\\frame1870.jpg: 384x640 1 Jing, 1 Ann, 24.4ms\n",
      "Speed: 2.0ms preprocess, 24.4ms inference, 2.0ms postprocess per image at shape (1, 3, 640, 640)\n"
     ]
    }
   ],
   "source": [
    "result = model(\"./example/frame1870.jpg\")"
   ]
  },
  {
   "cell_type": "code",
   "execution_count": 14,
   "metadata": {},
   "outputs": [
    {
     "name": "stdout",
     "output_type": "stream",
     "text": [
      "ultralytics.yolo.engine.results.Results object with attributes:\n",
      "\n",
      "boxes: ultralytics.yolo.engine.results.Boxes object\n",
      "keypoints: None\n",
      "keys: ['boxes']\n",
      "masks: None\n",
      "names: {0: 'Jing', 1: 'Ann'}\n",
      "orig_img: array([[[0, 0, 0],\n",
      "        [0, 0, 0],\n",
      "        [0, 0, 0],\n",
      "        ...,\n",
      "        [0, 0, 0],\n",
      "        [0, 0, 0],\n",
      "        [0, 0, 0]],\n",
      "\n",
      "       [[0, 0, 0],\n",
      "        [0, 0, 0],\n",
      "        [0, 0, 0],\n",
      "        ...,\n",
      "        [0, 0, 0],\n",
      "        [0, 0, 0],\n",
      "        [0, 0, 0]],\n",
      "\n",
      "       [[0, 0, 0],\n",
      "        [0, 0, 0],\n",
      "        [0, 0, 0],\n",
      "        ...,\n",
      "        [0, 0, 0],\n",
      "        [0, 0, 0],\n",
      "        [0, 0, 0]],\n",
      "\n",
      "       ...,\n",
      "\n",
      "       [[0, 0, 0],\n",
      "        [0, 0, 0],\n",
      "        [0, 0, 0],\n",
      "        ...,\n",
      "        [0, 0, 0],\n",
      "        [0, 0, 0],\n",
      "        [0, 0, 0]],\n",
      "\n",
      "       [[0, 0, 0],\n",
      "        [0, 0, 0],\n",
      "        [0, 0, 0],\n",
      "        ...,\n",
      "        [0, 0, 0],\n",
      "        [0, 0, 0],\n",
      "        [0, 0, 0]],\n",
      "\n",
      "       [[0, 0, 0],\n",
      "        [0, 0, 0],\n",
      "        [0, 0, 0],\n",
      "        ...,\n",
      "        [0, 0, 0],\n",
      "        [0, 0, 0],\n",
      "        [0, 0, 0]]], dtype=uint8)\n",
      "orig_shape: (1080, 1920)\n",
      "path: 'd:\\\\Work_space\\\\Projects\\\\AI-Game\\\\The_King_of_Fighters_XV\\\\yolo\\\\example\\\\frame1870.jpg'\n",
      "probs: None\n",
      "speed: {'preprocess': 1.9519329071044922, 'inference': 24.399995803833008, 'postprocess': 1.9519329071044922}\n"
     ]
    }
   ],
   "source": [
    "print(result[0])"
   ]
  },
  {
   "cell_type": "code",
   "execution_count": 15,
   "metadata": {},
   "outputs": [
    {
     "name": "stdout",
     "output_type": "stream",
     "text": [
      "tensor([[1378.8213,  477.2823, 1683.5012,  991.3068],\n",
      "        [1030.8445,  477.7440, 1362.7490,  988.8903]], device='cuda:0')\n",
      "tensor([1., 0.], device='cuda:0')\n"
     ]
    }
   ],
   "source": [
    "print(result[0].boxes.xyxy)\n",
    "print(result[0].boxes.cls)\n",
    "cls_result = result[0].boxes.cls\n",
    "xyxy_bbox_result = result[0].boxes.xyxy"
   ]
  },
  {
   "cell_type": "code",
   "execution_count": 17,
   "metadata": {},
   "outputs": [
    {
     "name": "stdout",
     "output_type": "stream",
     "text": [
      "tensor([1378.8213,  477.2823, 1683.5012,  991.3068], device='cuda:0')\n",
      "tensor([1030.8445,  477.7440, 1362.7490,  988.8903], device='cuda:0')\n",
      "tensor([335.3419], device='cuda:0')\n"
     ]
    }
   ],
   "source": [
    "# 0是ai，1是敌人\n",
    "import torch\n",
    "\n",
    "# 获得Ann和Jing的bbox的索引\n",
    "Ann_index = torch.nonzero(cls_result)\n",
    "Jing_index = torch.nonzero(cls_result==0)\n",
    "\n",
    "# 获得Ann和JIng的bbox (xyxy格式)\n",
    "Ann_bbox = xyxy_bbox_result[Ann_index].view([4])\n",
    "Jing_bbox = xyxy_bbox_result[Jing_index].view([4])\n",
    "\n",
    "# 计算Ann和Jing之间的距离（以Jing为原点，直接计算差值并取平均值），正数的话就是ann在右，负数的话就是ann在左\n",
    "distance = torch.sum(Ann_bbox-Jing_bbox) / 2\n",
    "\n",
    "print(Ann_bbox)\n",
    "print(Jing_bbox)\n",
    "print(distance.view([1]))"
   ]
  }
 ],
 "metadata": {
  "kernelspec": {
   "display_name": "AIGame",
   "language": "python",
   "name": "python3"
  },
  "language_info": {
   "codemirror_mode": {
    "name": "ipython",
    "version": 3
   },
   "file_extension": ".py",
   "mimetype": "text/x-python",
   "name": "python",
   "nbconvert_exporter": "python",
   "pygments_lexer": "ipython3",
   "version": "3.10.11"
  },
  "orig_nbformat": 4
 },
 "nbformat": 4,
 "nbformat_minor": 2
}
